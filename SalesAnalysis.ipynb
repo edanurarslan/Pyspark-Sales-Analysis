{
  "nbformat": 4,
  "nbformat_minor": 0,
  "metadata": {
    "colab": {
      "provenance": []
    },
    "kernelspec": {
      "name": "python3",
      "display_name": "Python 3"
    },
    "language_info": {
      "name": "python"
    }
  },
  "cells": [
    {
      "cell_type": "markdown",
      "source": [
        "# İleri Veri İşleme Modül Projesi\n",
        "\n",
        "### Milli Teknoloji Hamlesi kapsamında düzenlenen Yapay Zeka Uzmanlık Programı dahilinde gerçekleştirilen uygulama ödevidir.\n",
        "\n",
        "**Hazırlayan : Eda Nur ARSLAN**\n",
        "\n",
        "### İçerik:\n",
        "🔹 **Assessment 1:**  \n",
        "Ceketlerin 2023 Haziran-Ağustos dönemindeki satışları bölgelere göre analiz edilerek, her bölgedeki toplam satış miktarı ve cirosu hesaplanmıştır.\n",
        "\n",
        "🔹 **Assessment 2:**  \n",
        "Her perakendecinin, müşteri bölgesine göre yaptığı ceket satışları analiz edilerek, en yüksek ciro elde ettiği bölge belirlenmiştir."
      ],
      "metadata": {
        "id": "_-FZXhsoIuaL"
      }
    },
    {
      "cell_type": "markdown",
      "source": [
        "## Kullanılan Veri Tabloları\n",
        "\n",
        "| Tablo Adı      | Açıklama |\n",
        "|----------------|----------|\n",
        "| `FactSale`     | Gerçekleşen tüm satış işlemlerini içerir  |\n",
        "| `DimProduct`   | Ürün bilgilerini içerir  |\n",
        "| `DimCustomer`  | Müşteri bilgileri (bulunduğu şehir dahil) |\n",
        "| `DimRetailer`  | Perakendeci bilgileri |\n",
        "| `DimRegion`    | Şehirleri bölgelere bağlar |\n",
        "| `FactPurchase`    | Ürün satın alma işlemler |\n",
        "| `DimSupplier`    | Tedarikçi bilgileri |\n",
        "| `DimDate`    | Tarih boyut tablosu (gün/ay/yıl) |"
      ],
      "metadata": {
        "id": "qUYNd5yFOFF7"
      }
    },
    {
      "cell_type": "markdown",
      "source": [
        "## 1) Gerekli kütüphaneleri import etme"
      ],
      "metadata": {
        "id": "o0csVYITMLxt"
      }
    },
    {
      "cell_type": "code",
      "execution_count": 1,
      "metadata": {
        "id": "xSyVAwoEUCUb"
      },
      "outputs": [],
      "source": [
        "from pyspark.sql import SparkSession, functions as F"
      ]
    },
    {
      "cell_type": "markdown",
      "source": [
        "## 2) Parquet Veri Setlerinin Okunması ve Spark SQL Görünümlerinin Oluşturulması"
      ],
      "metadata": {
        "id": "7e1C7xuOMlLp"
      }
    },
    {
      "cell_type": "markdown",
      "source": [
        "---"
      ],
      "metadata": {
        "id": "pzrUv0jEBJaV"
      }
    },
    {
      "cell_type": "code",
      "source": [
        "spark = SparkSession.builder.appName(\"PySparkExample\").getOrCreate()\n",
        "\n",
        "df_pur = spark.read.parquet(\"/content/drive/MyDrive/yz-ileri veri işleme/data/purchase\")\n",
        "df_sal = spark.read.parquet(\"/content/drive/MyDrive/yz-ileri veri işleme/data/sale\")\n",
        "df_cus = spark.read.parquet(\"/content/drive/MyDrive/yz-ileri veri işleme/data/customer\")\n",
        "df_ret = spark.read.parquet(\"/content/drive/MyDrive/yz-ileri veri işleme/data/retailer\")\n",
        "df_pro = spark.read.parquet(\"/content/drive/MyDrive/yz-ileri veri işleme/data/product\")\n",
        "df_sup = spark.read.parquet(\"/content/drive/MyDrive/yz-ileri veri işleme/data/supplier\")\n",
        "df_reg = spark.read.parquet(\"/content/drive/MyDrive/yz-ileri veri işleme/data/region\")\n",
        "df_date = spark.read.parquet(\"/content/drive/MyDrive/yz-ileri veri işleme/data/date\")\n",
        "\n",
        "df_cus.createOrReplaceTempView(\"DimCustomer\")\n",
        "df_pur.createOrReplaceTempView(\"FactPurchase\")\n",
        "df_sal.createOrReplaceTempView(\"FactSale\")\n",
        "df_ret.createOrReplaceTempView(\"DimRetailer\")\n",
        "df_pro.createOrReplaceTempView(\"DimProduct\")\n",
        "df_sup.createOrReplaceTempView(\"DimSupplier\")\n",
        "df_reg.createOrReplaceTempView(\"DimRegion\")\n",
        "df_date.createOrReplaceTempView(\"DimDate\")"
      ],
      "metadata": {
        "id": "h7Ci6jbbUShi"
      },
      "execution_count": 2,
      "outputs": []
    },
    {
      "cell_type": "markdown",
      "source": [
        "## 3) Örnek SQL Sorguları"
      ],
      "metadata": {
        "id": "7Snh8rmUM3Fm"
      }
    },
    {
      "cell_type": "code",
      "source": [
        "spark.sql(\"SELECT customer_id, name, surname, birth_date FROM DimCustomer LIMIT 5\").show()"
      ],
      "metadata": {
        "colab": {
          "base_uri": "https://localhost:8080/"
        },
        "id": "3GWu_OsVYmqP",
        "outputId": "83e2b370-b93f-45d6-b898-37dce0bbe738"
      },
      "execution_count": 3,
      "outputs": [
        {
          "output_type": "stream",
          "name": "stdout",
          "text": [
            "+-----------+-------+--------+----------+\n",
            "|customer_id|   name| surname|birth_date|\n",
            "+-----------+-------+--------+----------+\n",
            "|          1| Jazmin|  Burril|1958-09-22|\n",
            "|          2| Dalila|   Faers|2000-11-08|\n",
            "|          3|Wayland|Walework|1976-03-08|\n",
            "|          4|Amberly|  Haquin|1948-10-08|\n",
            "|          5|Garrett|   Frear|1957-09-25|\n",
            "+-----------+-------+--------+----------+\n",
            "\n"
          ]
        }
      ]
    },
    {
      "cell_type": "markdown",
      "source": [
        "*   Amaç, müşteri verilerini örneklemek ve yapısını hızlıca incelemektir."
      ],
      "metadata": {
        "id": "MuYdjsUTNDhd"
      }
    },
    {
      "cell_type": "markdown",
      "source": [
        "---"
      ],
      "metadata": {
        "id": "I1M9_h8QBsK9"
      }
    },
    {
      "cell_type": "code",
      "source": [
        "df_cus.select(\"customer_id\", \"name\", \"surname\", \"birth_date\").show(5)"
      ],
      "metadata": {
        "colab": {
          "base_uri": "https://localhost:8080/"
        },
        "id": "5sywAhLWUT1k",
        "outputId": "131e0936-be03-4097-d0d7-2a0aa4c52c3b"
      },
      "execution_count": 4,
      "outputs": [
        {
          "output_type": "stream",
          "name": "stdout",
          "text": [
            "+-----------+-------+--------+----------+\n",
            "|customer_id|   name| surname|birth_date|\n",
            "+-----------+-------+--------+----------+\n",
            "|          1| Jazmin|  Burril|1958-09-22|\n",
            "|          2| Dalila|   Faers|2000-11-08|\n",
            "|          3|Wayland|Walework|1976-03-08|\n",
            "|          4|Amberly|  Haquin|1948-10-08|\n",
            "|          5|Garrett|   Frear|1957-09-25|\n",
            "+-----------+-------+--------+----------+\n",
            "only showing top 5 rows\n",
            "\n"
          ]
        }
      ]
    },
    {
      "cell_type": "markdown",
      "source": [
        "*   Amaç, veri çerçevesindeki müşteri bilgilerini hızlıca gözlemlemektir."
      ],
      "metadata": {
        "id": "jyErXmfSNM9x"
      }
    },
    {
      "cell_type": "markdown",
      "source": [
        "---"
      ],
      "metadata": {
        "id": "jKJg0wMkBtaF"
      }
    },
    {
      "cell_type": "code",
      "source": [
        "spark.sql(\"\"\"\n",
        "SELECT\n",
        "    customer_id\n",
        "    ,name\n",
        "    ,surname\n",
        "    ,YEAR(CURRENT_DATE()) - YEAR(birth_date) AS age\n",
        "FROM DimCustomer\n",
        "LIMIT 5\n",
        "\"\"\").show()"
      ],
      "metadata": {
        "colab": {
          "base_uri": "https://localhost:8080/"
        },
        "id": "oYTX3bDvUbOu",
        "outputId": "65407fbc-e1c6-4584-c4f6-922789e62fd6"
      },
      "execution_count": 5,
      "outputs": [
        {
          "output_type": "stream",
          "name": "stdout",
          "text": [
            "+-----------+-------+--------+---+\n",
            "|customer_id|   name| surname|age|\n",
            "+-----------+-------+--------+---+\n",
            "|          1| Jazmin|  Burril| 67|\n",
            "|          2| Dalila|   Faers| 25|\n",
            "|          3|Wayland|Walework| 49|\n",
            "|          4|Amberly|  Haquin| 77|\n",
            "|          5|Garrett|   Frear| 68|\n",
            "+-----------+-------+--------+---+\n",
            "\n"
          ]
        }
      ]
    },
    {
      "cell_type": "markdown",
      "source": [
        "*   Amaç, müşteri yaş bilgilerini dinamik olarak hesaplayıp örneklemektir."
      ],
      "metadata": {
        "id": "f3CQe7MONhx4"
      }
    },
    {
      "cell_type": "markdown",
      "source": [
        "---"
      ],
      "metadata": {
        "id": "7FUbOlwuBuRD"
      }
    },
    {
      "cell_type": "code",
      "source": [
        "(\n",
        "    df_cus.withColumn(\"age\", F.year(F.current_date()) - F.year(\"birth_date\"))\n",
        "    .select(\"customer_id\", \"name\", \"surname\", \"age\")\n",
        "    .show(5)\n",
        ")"
      ],
      "metadata": {
        "colab": {
          "base_uri": "https://localhost:8080/"
        },
        "id": "CeGeXPsCUg0T",
        "outputId": "29eca1c8-4ec2-4818-91ec-02a1e39c230f"
      },
      "execution_count": 6,
      "outputs": [
        {
          "output_type": "stream",
          "name": "stdout",
          "text": [
            "+-----------+-------+--------+---+\n",
            "|customer_id|   name| surname|age|\n",
            "+-----------+-------+--------+---+\n",
            "|          1| Jazmin|  Burril| 67|\n",
            "|          2| Dalila|   Faers| 25|\n",
            "|          3|Wayland|Walework| 49|\n",
            "|          4|Amberly|  Haquin| 77|\n",
            "|          5|Garrett|   Frear| 68|\n",
            "+-----------+-------+--------+---+\n",
            "only showing top 5 rows\n",
            "\n"
          ]
        }
      ]
    },
    {
      "cell_type": "markdown",
      "source": [
        "*    \"df_cus\" DataFrame’ine müşterilerin yaşını (age) hesaplayan yeni bir sütun ekler. Amaç, müşteri veri çerçevesi üzerinden dinamik yaş hesaplaması yaparak örnek verileri incelemektir."
      ],
      "metadata": {
        "id": "d-AuF4ygN7dP"
      }
    },
    {
      "cell_type": "markdown",
      "source": [
        "---"
      ],
      "metadata": {
        "id": "9luQtKpeBvFS"
      }
    },
    {
      "cell_type": "code",
      "source": [
        "spark.sql(\"\"\"\n",
        "SELECT\n",
        "    name\n",
        "    ,surname\n",
        "    ,age\n",
        "FROM\n",
        "(\n",
        "    SELECT\n",
        "        customer_id\n",
        "        ,name\n",
        "        ,surname\n",
        "        ,YEAR(CURRENT_DATE()) - YEAR(birth_date) AS age\n",
        "    FROM DimCustomer\n",
        ")\n",
        "WHERE age >= 30\n",
        "LIMIT 5\n",
        "\"\"\").show()"
      ],
      "metadata": {
        "colab": {
          "base_uri": "https://localhost:8080/"
        },
        "id": "OczghmmTUnf8",
        "outputId": "bed747c1-a3e0-45c0-d3a5-fceb0e55a9f0"
      },
      "execution_count": 7,
      "outputs": [
        {
          "output_type": "stream",
          "name": "stdout",
          "text": [
            "+-------+--------+---+\n",
            "|   name| surname|age|\n",
            "+-------+--------+---+\n",
            "| Jazmin|  Burril| 67|\n",
            "|Wayland|Walework| 49|\n",
            "|Amberly|  Haquin| 77|\n",
            "|Garrett|   Frear| 68|\n",
            "|  Horst|   Isted| 50|\n",
            "+-------+--------+---+\n",
            "\n"
          ]
        }
      ]
    },
    {
      "cell_type": "markdown",
      "source": [
        "\n",
        "\n",
        "*   Amaç, yaş filtresi kullanarak belirli yaş grubundaki müşterileri listelemektir."
      ],
      "metadata": {
        "id": "YKjSuvf5OGcC"
      }
    },
    {
      "cell_type": "markdown",
      "source": [
        "---"
      ],
      "metadata": {
        "id": "IDOJIkraBv7s"
      }
    },
    {
      "cell_type": "code",
      "source": [
        "(\n",
        "    df_cus.withColumn(\"age\", F.year(F.current_date()) - F.year(\"birth_date\"))\n",
        "    .select(\"name\", \"surname\", \"age\")\n",
        "    .filter(F.col(\"age\") >= 30)\n",
        "    .show(5)\n",
        ")"
      ],
      "metadata": {
        "colab": {
          "base_uri": "https://localhost:8080/"
        },
        "id": "r63564AqUtd7",
        "outputId": "4c6adcc6-0e4a-408a-bee9-17d433761ecc"
      },
      "execution_count": 8,
      "outputs": [
        {
          "output_type": "stream",
          "name": "stdout",
          "text": [
            "+-------+--------+---+\n",
            "|   name| surname|age|\n",
            "+-------+--------+---+\n",
            "| Jazmin|  Burril| 67|\n",
            "|Wayland|Walework| 49|\n",
            "|Amberly|  Haquin| 77|\n",
            "|Garrett|   Frear| 68|\n",
            "|  Horst|   Isted| 50|\n",
            "+-------+--------+---+\n",
            "only showing top 5 rows\n",
            "\n"
          ]
        }
      ]
    },
    {
      "cell_type": "markdown",
      "source": [
        "* \"df_cus\" DataFrame’ine dinamik olarak yaş (age) sütunu ekler. Amaç,\n",
        " belirli bir yaş grubundaki müşteri verilerini analiz etmektir."
      ],
      "metadata": {
        "id": "ViITWjVbPlxF"
      }
    },
    {
      "cell_type": "markdown",
      "source": [
        "---"
      ],
      "metadata": {
        "id": "EXx84t6nBw7D"
      }
    },
    {
      "cell_type": "markdown",
      "source": [
        "JOIN İŞLEMLERİ : İki veya daha fazla tabloyu (veya DataFrame'i) ortak bir sütun üzerinden birleştirerek ilişkili verileri tek bir tablo gibi analiz etmeyi sağlar.\n",
        "\n",
        "Temel JOIN türleri:\n",
        "\n",
        "| JOIN Türü     | Açıklama |\n",
        "|---------------|----------|\n",
        "| **INNER JOIN** | Eşleşen kayıtları getirir |\n",
        "| **LEFT JOIN**  | Sol tablodaki tüm kayıtları, sağdan eşleşenlerle birlikte getirir |\n",
        "| **RIGHT JOIN** | Sağ tablodaki tüm kayıtları, soldan eşleşenlerle birlikte getirir |\n",
        "| **FULL JOIN**  | Her iki tablodaki tüm kayıtları getirir, eşleşmeyenlere NULL yazar |                |\n",
        "| **LEFT OUTER JOIN** (ya da `LEFT JOIN`)  | Sol tablodaki tüm kayıtları döndürür; sağda eşleşmeyenler için `NULL` koyar. |\n",
        "| **RIGHT OUTER JOIN** (ya da `RIGHT JOIN`) | Sağ tablodaki tüm kayıtları döndürür; solda eşleşmeyenler için `NULL` koyar. |\n",
        "| **FULL OUTER JOIN** (ya da `OUTER JOIN`)  | Her iki tablodaki tüm kayıtları döndürür; eşleşmeyen yerler `NULL` olur.     |\n",
        "| **CROSS JOIN**     | İki tablonun tüm kayıtlarını çarpar (kartaizyen çarpım); filtre olmadan tüm kombinasyonlar döner. Çok büyük sonuçlar üretebilir. |"
      ],
      "metadata": {
        "id": "GvqOQHseOboa"
      }
    },
    {
      "cell_type": "code",
      "source": [
        "spark.sql(\"\"\"\n",
        "SELECT *\n",
        "FROM FactSale as fact\n",
        "INNER JOIN DimProduct as dim\n",
        "ON fact.product_id = dim.product_id\n",
        "\"\"\").show()"
      ],
      "metadata": {
        "colab": {
          "base_uri": "https://localhost:8080/"
        },
        "id": "NUuIUN86UtZY",
        "outputId": "11a7d87b-0752-4db1-d724-3ee423002289"
      },
      "execution_count": 9,
      "outputs": [
        {
          "output_type": "stream",
          "name": "stdout",
          "text": [
            "+--------+----------+-----------+-----------+--------+---------+----------+----------+-------------+------------+------+------+---------+----------+\n",
            "|order_id|product_id|customer_id|retailer_id|quantity|total_amt|      date|product_id| product_code|product_type|colour|  size| material|unit_price|\n",
            "+--------+----------+-----------+-----------+--------+---------+----------+----------+-------------+------------+------+------+---------+----------+\n",
            "|       1|       241|        551|          2|       1|       32|2023-08-30|       241| GJKT001BLD-S|      Jacket| Black| Small|    Denim|        32|\n",
            "|       1|       139|        551|          2|       1|       23|2023-08-30|       139|    GS002WR-L|       Shirt| White| Large|    Rayon|        23|\n",
            "|       1|        36|        551|          2|       1|       20|2023-08-30|        36|  GTS001BC-XL|      Tshirt|  Blue|XLarge|   Cotton|        20|\n",
            "|       1|       319|        551|          2|       1|       41|2023-08-30|       319| BTRS001WCR-L|    Trousers| White| Large| Corduroy|        41|\n",
            "|       1|         5|        551|          2|       1|       25|2023-08-30|         5|   BTS001WC-S|      Tshirt| White| Small|   Cotton|        25|\n",
            "|       2|       163|        286|          1|       2|       80|2023-08-30|       163|    GS003WL-L|       Shirt| White| Large|    Linen|        40|\n",
            "|       2|       234|        286|          1|       2|       68|2023-08-30|       234|  BJKT001GD-M|      Jacket| Green|Medium|    Denim|        34|\n",
            "|       2|       311|        286|          1|       1|       35|2023-08-30|       311|  GTRS001OC-L|    Trousers|Orange| Large|   Cotton|        35|\n",
            "|       3|       148|        889|          2|       3|      150|2023-06-30|       148|  BS003BLL-XL|       Shirt| Black|XLarge|    Linen|        50|\n",
            "|       3|        88|        889|          2|       1|       10|2023-06-30|        88|  GTS002RC-XL|      Tshirt|   Red|XLarge|   Cotton|        10|\n",
            "|       4|       336|        138|          2|       1|       41|2023-07-22|       336|BTRS001OCR-XL|    Trousers|Orange|XLarge| Corduroy|        41|\n",
            "|       4|        79|        138|          2|       1|       10|2023-07-22|        79|   GTS002WC-L|      Tshirt| White| Large|   Cotton|        10|\n",
            "|       4|       104|        138|          2|       2|       60|2023-07-22|       104|   BS001WC-XL|       Shirt| White|XLarge|   Cotton|        30|\n",
            "|       4|       101|        138|          2|       1|       30|2023-07-22|       101|    BS001WC-S|       Shirt| White| Small|   Cotton|        30|\n",
            "|       4|       176|        138|          2|       2|      100|2023-07-22|       176| BJKT001WC-XL|      Jacket| White|XLarge|   Cotton|        50|\n",
            "|       5|        72|        517|          2|       1|       15|2023-04-17|        72|  BTS002OP-XL|      Tshirt|Orange|XLarge|Polyester|        15|\n",
            "|       5|       235|        517|          2|       1|       34|2023-04-17|       235|  BJKT001GD-L|      Jacket| Green| Large|    Denim|        34|\n",
            "|       5|        53|        517|          2|       1|       15|2023-04-17|        53|   BTS002WP-S|      Tshirt| White| Small|Polyester|        15|\n",
            "|       6|        95|        447|          2|       1|       10|2023-01-05|        95|   GTS002OC-L|      Tshirt|Orange| Large|   Cotton|        10|\n",
            "|       6|       167|        447|          2|       2|       80|2023-01-05|       167|    GS003NL-L|       Shirt|  Navy| Large|    Linen|        40|\n",
            "+--------+----------+-----------+-----------+--------+---------+----------+----------+-------------+------------+------+------+---------+----------+\n",
            "only showing top 20 rows\n",
            "\n"
          ]
        }
      ]
    },
    {
      "cell_type": "markdown",
      "source": [
        "---"
      ],
      "metadata": {
        "id": "fmqKIpPbCGSJ"
      }
    },
    {
      "cell_type": "code",
      "source": [
        "spark.sql(\"\"\"\n",
        "SELECT *\n",
        "FROM FactSale as fact\n",
        "LEFT JOIN DimProduct as dim\n",
        "ON fact.product_id = dim.product_id\n",
        "\"\"\").show()"
      ],
      "metadata": {
        "colab": {
          "base_uri": "https://localhost:8080/"
        },
        "id": "rYjJ646WUtVm",
        "outputId": "5c400d22-ffca-4b53-e083-a5fb05b5a29e"
      },
      "execution_count": 10,
      "outputs": [
        {
          "output_type": "stream",
          "name": "stdout",
          "text": [
            "+--------+----------+-----------+-----------+--------+---------+----------+----------+-------------+------------+------+------+---------+----------+\n",
            "|order_id|product_id|customer_id|retailer_id|quantity|total_amt|      date|product_id| product_code|product_type|colour|  size| material|unit_price|\n",
            "+--------+----------+-----------+-----------+--------+---------+----------+----------+-------------+------------+------+------+---------+----------+\n",
            "|       1|       241|        551|          2|       1|       32|2023-08-30|       241| GJKT001BLD-S|      Jacket| Black| Small|    Denim|        32|\n",
            "|       1|       139|        551|          2|       1|       23|2023-08-30|       139|    GS002WR-L|       Shirt| White| Large|    Rayon|        23|\n",
            "|       1|        36|        551|          2|       1|       20|2023-08-30|        36|  GTS001BC-XL|      Tshirt|  Blue|XLarge|   Cotton|        20|\n",
            "|       1|       319|        551|          2|       1|       41|2023-08-30|       319| BTRS001WCR-L|    Trousers| White| Large| Corduroy|        41|\n",
            "|       1|         5|        551|          2|       1|       25|2023-08-30|         5|   BTS001WC-S|      Tshirt| White| Small|   Cotton|        25|\n",
            "|       2|       163|        286|          1|       2|       80|2023-08-30|       163|    GS003WL-L|       Shirt| White| Large|    Linen|        40|\n",
            "|       2|       234|        286|          1|       2|       68|2023-08-30|       234|  BJKT001GD-M|      Jacket| Green|Medium|    Denim|        34|\n",
            "|       2|       311|        286|          1|       1|       35|2023-08-30|       311|  GTRS001OC-L|    Trousers|Orange| Large|   Cotton|        35|\n",
            "|       3|       148|        889|          2|       3|      150|2023-06-30|       148|  BS003BLL-XL|       Shirt| Black|XLarge|    Linen|        50|\n",
            "|       3|        88|        889|          2|       1|       10|2023-06-30|        88|  GTS002RC-XL|      Tshirt|   Red|XLarge|   Cotton|        10|\n",
            "|       4|       336|        138|          2|       1|       41|2023-07-22|       336|BTRS001OCR-XL|    Trousers|Orange|XLarge| Corduroy|        41|\n",
            "|       4|        79|        138|          2|       1|       10|2023-07-22|        79|   GTS002WC-L|      Tshirt| White| Large|   Cotton|        10|\n",
            "|       4|       104|        138|          2|       2|       60|2023-07-22|       104|   BS001WC-XL|       Shirt| White|XLarge|   Cotton|        30|\n",
            "|       4|       101|        138|          2|       1|       30|2023-07-22|       101|    BS001WC-S|       Shirt| White| Small|   Cotton|        30|\n",
            "|       4|       176|        138|          2|       2|      100|2023-07-22|       176| BJKT001WC-XL|      Jacket| White|XLarge|   Cotton|        50|\n",
            "|       5|        72|        517|          2|       1|       15|2023-04-17|        72|  BTS002OP-XL|      Tshirt|Orange|XLarge|Polyester|        15|\n",
            "|       5|       235|        517|          2|       1|       34|2023-04-17|       235|  BJKT001GD-L|      Jacket| Green| Large|    Denim|        34|\n",
            "|       5|        53|        517|          2|       1|       15|2023-04-17|        53|   BTS002WP-S|      Tshirt| White| Small|Polyester|        15|\n",
            "|       6|        95|        447|          2|       1|       10|2023-01-05|        95|   GTS002OC-L|      Tshirt|Orange| Large|   Cotton|        10|\n",
            "|       6|       167|        447|          2|       2|       80|2023-01-05|       167|    GS003NL-L|       Shirt|  Navy| Large|    Linen|        40|\n",
            "+--------+----------+-----------+-----------+--------+---------+----------+----------+-------------+------------+------+------+---------+----------+\n",
            "only showing top 20 rows\n",
            "\n"
          ]
        }
      ]
    },
    {
      "cell_type": "markdown",
      "source": [
        "---"
      ],
      "metadata": {
        "id": "ibMqZL9DCHGg"
      }
    },
    {
      "cell_type": "code",
      "source": [
        "spark.sql(\"\"\"\n",
        "SELECT *\n",
        "FROM FactSale as fact\n",
        "RIGHT JOIN DimProduct as dim\n",
        "ON fact.product_id = dim.product_id\n",
        "\"\"\").show()"
      ],
      "metadata": {
        "colab": {
          "base_uri": "https://localhost:8080/"
        },
        "id": "5WrSUW3dUtSZ",
        "outputId": "d6e5945a-cab7-4b05-bd67-cbcaa6a7166f"
      },
      "execution_count": 11,
      "outputs": [
        {
          "output_type": "stream",
          "name": "stdout",
          "text": [
            "+--------+----------+-----------+-----------+--------+---------+----------+----------+------------+------------+------+-----+--------+----------+\n",
            "|order_id|product_id|customer_id|retailer_id|quantity|total_amt|      date|product_id|product_code|product_type|colour| size|material|unit_price|\n",
            "+--------+----------+-----------+-----------+--------+---------+----------+----------+------------+------------+------+-----+--------+----------+\n",
            "|    4858|         1|        548|          1|       3|       75|2023-10-20|         1| BTS001BLC-S|      Tshirt| Black|Small|  Cotton|        25|\n",
            "|    4541|         1|        931|          2|       1|       25|2023-01-26|         1| BTS001BLC-S|      Tshirt| Black|Small|  Cotton|        25|\n",
            "|    4520|         1|        524|          2|       2|       50|2023-06-17|         1| BTS001BLC-S|      Tshirt| Black|Small|  Cotton|        25|\n",
            "|    4423|         1|        435|          2|       1|       25|2023-06-05|         1| BTS001BLC-S|      Tshirt| Black|Small|  Cotton|        25|\n",
            "|    4391|         1|        742|          2|       1|       25|2023-03-31|         1| BTS001BLC-S|      Tshirt| Black|Small|  Cotton|        25|\n",
            "|    4250|         1|        111|          2|       3|       75|2023-12-29|         1| BTS001BLC-S|      Tshirt| Black|Small|  Cotton|        25|\n",
            "|    4189|         1|        276|          3|       1|       25|2023-03-22|         1| BTS001BLC-S|      Tshirt| Black|Small|  Cotton|        25|\n",
            "|    3933|         1|        521|          2|       2|       50|2023-02-26|         1| BTS001BLC-S|      Tshirt| Black|Small|  Cotton|        25|\n",
            "|    3744|         1|        463|          2|       2|       50|2023-06-17|         1| BTS001BLC-S|      Tshirt| Black|Small|  Cotton|        25|\n",
            "|    3310|         1|        658|          2|       3|       75|2023-05-06|         1| BTS001BLC-S|      Tshirt| Black|Small|  Cotton|        25|\n",
            "|    3023|         1|        955|          1|       2|       50|2023-07-12|         1| BTS001BLC-S|      Tshirt| Black|Small|  Cotton|        25|\n",
            "|    2943|         1|        920|          3|       1|       25|2023-06-23|         1| BTS001BLC-S|      Tshirt| Black|Small|  Cotton|        25|\n",
            "|    2545|         1|        892|          1|       2|       50|2023-05-28|         1| BTS001BLC-S|      Tshirt| Black|Small|  Cotton|        25|\n",
            "|    2495|         1|        599|          2|       1|       25|2023-06-18|         1| BTS001BLC-S|      Tshirt| Black|Small|  Cotton|        25|\n",
            "|    2251|         1|        832|          1|       2|       50|2023-03-30|         1| BTS001BLC-S|      Tshirt| Black|Small|  Cotton|        25|\n",
            "|    2207|         1|        711|          1|       3|       75|2023-11-30|         1| BTS001BLC-S|      Tshirt| Black|Small|  Cotton|        25|\n",
            "|    2068|         1|        341|          2|       1|       25|2023-12-28|         1| BTS001BLC-S|      Tshirt| Black|Small|  Cotton|        25|\n",
            "|    1996|         1|        659|          2|       2|       50|2023-07-23|         1| BTS001BLC-S|      Tshirt| Black|Small|  Cotton|        25|\n",
            "|    1733|         1|         57|          2|       1|       25|2023-10-10|         1| BTS001BLC-S|      Tshirt| Black|Small|  Cotton|        25|\n",
            "|    1400|         1|        719|          1|       2|       50|2023-09-28|         1| BTS001BLC-S|      Tshirt| Black|Small|  Cotton|        25|\n",
            "+--------+----------+-----------+-----------+--------+---------+----------+----------+------------+------------+------+-----+--------+----------+\n",
            "only showing top 20 rows\n",
            "\n"
          ]
        }
      ]
    },
    {
      "cell_type": "markdown",
      "source": [
        "---"
      ],
      "metadata": {
        "id": "xiNzCFGKCH8k"
      }
    },
    {
      "cell_type": "code",
      "source": [
        "spark.sql(\"\"\"\n",
        "SELECT *\n",
        "FROM FactSale as fact\n",
        "LEFT OUTER JOIN DimProduct as dim\n",
        "ON fact.product_id = dim.product_id\n",
        "\"\"\").show()"
      ],
      "metadata": {
        "colab": {
          "base_uri": "https://localhost:8080/"
        },
        "id": "q33vCc5FUtPe",
        "outputId": "3fe0d0f2-287d-4ef8-ec09-6c8459f4f163"
      },
      "execution_count": 12,
      "outputs": [
        {
          "output_type": "stream",
          "name": "stdout",
          "text": [
            "+--------+----------+-----------+-----------+--------+---------+----------+----------+-------------+------------+------+------+---------+----------+\n",
            "|order_id|product_id|customer_id|retailer_id|quantity|total_amt|      date|product_id| product_code|product_type|colour|  size| material|unit_price|\n",
            "+--------+----------+-----------+-----------+--------+---------+----------+----------+-------------+------------+------+------+---------+----------+\n",
            "|       1|       241|        551|          2|       1|       32|2023-08-30|       241| GJKT001BLD-S|      Jacket| Black| Small|    Denim|        32|\n",
            "|       1|       139|        551|          2|       1|       23|2023-08-30|       139|    GS002WR-L|       Shirt| White| Large|    Rayon|        23|\n",
            "|       1|        36|        551|          2|       1|       20|2023-08-30|        36|  GTS001BC-XL|      Tshirt|  Blue|XLarge|   Cotton|        20|\n",
            "|       1|       319|        551|          2|       1|       41|2023-08-30|       319| BTRS001WCR-L|    Trousers| White| Large| Corduroy|        41|\n",
            "|       1|         5|        551|          2|       1|       25|2023-08-30|         5|   BTS001WC-S|      Tshirt| White| Small|   Cotton|        25|\n",
            "|       2|       163|        286|          1|       2|       80|2023-08-30|       163|    GS003WL-L|       Shirt| White| Large|    Linen|        40|\n",
            "|       2|       234|        286|          1|       2|       68|2023-08-30|       234|  BJKT001GD-M|      Jacket| Green|Medium|    Denim|        34|\n",
            "|       2|       311|        286|          1|       1|       35|2023-08-30|       311|  GTRS001OC-L|    Trousers|Orange| Large|   Cotton|        35|\n",
            "|       3|       148|        889|          2|       3|      150|2023-06-30|       148|  BS003BLL-XL|       Shirt| Black|XLarge|    Linen|        50|\n",
            "|       3|        88|        889|          2|       1|       10|2023-06-30|        88|  GTS002RC-XL|      Tshirt|   Red|XLarge|   Cotton|        10|\n",
            "|       4|       336|        138|          2|       1|       41|2023-07-22|       336|BTRS001OCR-XL|    Trousers|Orange|XLarge| Corduroy|        41|\n",
            "|       4|        79|        138|          2|       1|       10|2023-07-22|        79|   GTS002WC-L|      Tshirt| White| Large|   Cotton|        10|\n",
            "|       4|       104|        138|          2|       2|       60|2023-07-22|       104|   BS001WC-XL|       Shirt| White|XLarge|   Cotton|        30|\n",
            "|       4|       101|        138|          2|       1|       30|2023-07-22|       101|    BS001WC-S|       Shirt| White| Small|   Cotton|        30|\n",
            "|       4|       176|        138|          2|       2|      100|2023-07-22|       176| BJKT001WC-XL|      Jacket| White|XLarge|   Cotton|        50|\n",
            "|       5|        72|        517|          2|       1|       15|2023-04-17|        72|  BTS002OP-XL|      Tshirt|Orange|XLarge|Polyester|        15|\n",
            "|       5|       235|        517|          2|       1|       34|2023-04-17|       235|  BJKT001GD-L|      Jacket| Green| Large|    Denim|        34|\n",
            "|       5|        53|        517|          2|       1|       15|2023-04-17|        53|   BTS002WP-S|      Tshirt| White| Small|Polyester|        15|\n",
            "|       6|        95|        447|          2|       1|       10|2023-01-05|        95|   GTS002OC-L|      Tshirt|Orange| Large|   Cotton|        10|\n",
            "|       6|       167|        447|          2|       2|       80|2023-01-05|       167|    GS003NL-L|       Shirt|  Navy| Large|    Linen|        40|\n",
            "+--------+----------+-----------+-----------+--------+---------+----------+----------+-------------+------------+------+------+---------+----------+\n",
            "only showing top 20 rows\n",
            "\n"
          ]
        }
      ]
    },
    {
      "cell_type": "markdown",
      "source": [
        "---"
      ],
      "metadata": {
        "id": "EUPvJPLyCIw2"
      }
    },
    {
      "cell_type": "code",
      "source": [
        "spark.sql(\"\"\"\n",
        "SELECT *\n",
        "FROM FactSale as fact\n",
        "CROSS JOIN DimProduct as dim\n",
        "ON fact.product_id = dim.product_id\n",
        "\"\"\").show()"
      ],
      "metadata": {
        "colab": {
          "base_uri": "https://localhost:8080/"
        },
        "id": "4VMwMmpeUtMM",
        "outputId": "8e536eae-c511-4e2b-9f5a-57c9deb73b8a"
      },
      "execution_count": 13,
      "outputs": [
        {
          "output_type": "stream",
          "name": "stdout",
          "text": [
            "+--------+----------+-----------+-----------+--------+---------+----------+----------+-------------+------------+------+------+---------+----------+\n",
            "|order_id|product_id|customer_id|retailer_id|quantity|total_amt|      date|product_id| product_code|product_type|colour|  size| material|unit_price|\n",
            "+--------+----------+-----------+-----------+--------+---------+----------+----------+-------------+------------+------+------+---------+----------+\n",
            "|       1|       241|        551|          2|       1|       32|2023-08-30|       241| GJKT001BLD-S|      Jacket| Black| Small|    Denim|        32|\n",
            "|       1|       139|        551|          2|       1|       23|2023-08-30|       139|    GS002WR-L|       Shirt| White| Large|    Rayon|        23|\n",
            "|       1|        36|        551|          2|       1|       20|2023-08-30|        36|  GTS001BC-XL|      Tshirt|  Blue|XLarge|   Cotton|        20|\n",
            "|       1|       319|        551|          2|       1|       41|2023-08-30|       319| BTRS001WCR-L|    Trousers| White| Large| Corduroy|        41|\n",
            "|       1|         5|        551|          2|       1|       25|2023-08-30|         5|   BTS001WC-S|      Tshirt| White| Small|   Cotton|        25|\n",
            "|       2|       163|        286|          1|       2|       80|2023-08-30|       163|    GS003WL-L|       Shirt| White| Large|    Linen|        40|\n",
            "|       2|       234|        286|          1|       2|       68|2023-08-30|       234|  BJKT001GD-M|      Jacket| Green|Medium|    Denim|        34|\n",
            "|       2|       311|        286|          1|       1|       35|2023-08-30|       311|  GTRS001OC-L|    Trousers|Orange| Large|   Cotton|        35|\n",
            "|       3|       148|        889|          2|       3|      150|2023-06-30|       148|  BS003BLL-XL|       Shirt| Black|XLarge|    Linen|        50|\n",
            "|       3|        88|        889|          2|       1|       10|2023-06-30|        88|  GTS002RC-XL|      Tshirt|   Red|XLarge|   Cotton|        10|\n",
            "|       4|       336|        138|          2|       1|       41|2023-07-22|       336|BTRS001OCR-XL|    Trousers|Orange|XLarge| Corduroy|        41|\n",
            "|       4|        79|        138|          2|       1|       10|2023-07-22|        79|   GTS002WC-L|      Tshirt| White| Large|   Cotton|        10|\n",
            "|       4|       104|        138|          2|       2|       60|2023-07-22|       104|   BS001WC-XL|       Shirt| White|XLarge|   Cotton|        30|\n",
            "|       4|       101|        138|          2|       1|       30|2023-07-22|       101|    BS001WC-S|       Shirt| White| Small|   Cotton|        30|\n",
            "|       4|       176|        138|          2|       2|      100|2023-07-22|       176| BJKT001WC-XL|      Jacket| White|XLarge|   Cotton|        50|\n",
            "|       5|        72|        517|          2|       1|       15|2023-04-17|        72|  BTS002OP-XL|      Tshirt|Orange|XLarge|Polyester|        15|\n",
            "|       5|       235|        517|          2|       1|       34|2023-04-17|       235|  BJKT001GD-L|      Jacket| Green| Large|    Denim|        34|\n",
            "|       5|        53|        517|          2|       1|       15|2023-04-17|        53|   BTS002WP-S|      Tshirt| White| Small|Polyester|        15|\n",
            "|       6|        95|        447|          2|       1|       10|2023-01-05|        95|   GTS002OC-L|      Tshirt|Orange| Large|   Cotton|        10|\n",
            "|       6|       167|        447|          2|       2|       80|2023-01-05|       167|    GS003NL-L|       Shirt|  Navy| Large|    Linen|        40|\n",
            "+--------+----------+-----------+-----------+--------+---------+----------+----------+-------------+------------+------+------+---------+----------+\n",
            "only showing top 20 rows\n",
            "\n"
          ]
        }
      ]
    },
    {
      "cell_type": "markdown",
      "source": [
        "---"
      ],
      "metadata": {
        "id": "j6ZLyJL1CJn7"
      }
    },
    {
      "cell_type": "code",
      "source": [
        "spark.sql(\"\"\"\n",
        "SELECT\n",
        "    region_name\n",
        "    ,AVG(YEAR(CURRENT_DATE()) - YEAR(birth_date)) AS age\n",
        "FROM DimCustomer cus\n",
        "INNER JOIN DimRegion reg\n",
        "ON cus.city_id = reg.city_id\n",
        "GROUP BY region_name\n",
        "ORDER BY age DESC\n",
        "\"\"\").show()"
      ],
      "metadata": {
        "colab": {
          "base_uri": "https://localhost:8080/"
        },
        "id": "QLgucn-FROjj",
        "outputId": "e3307530-c395-40e4-dfe5-55ec39db737e"
      },
      "execution_count": 14,
      "outputs": [
        {
          "output_type": "stream",
          "name": "stdout",
          "text": [
            "+-----------------+------------------+\n",
            "|      region_name|               age|\n",
            "+-----------------+------------------+\n",
            "|          Akdeniz| 51.81521739130435|\n",
            "|     Dogu Anadolu| 51.13095238095238|\n",
            "|Guneydogu Anadolu| 49.58119658119658|\n",
            "|          Marmara|49.189542483660134|\n",
            "|       Ic Anadolu| 49.07772020725388|\n",
            "|        Karadeniz| 48.75121951219512|\n",
            "|              Ege|47.888888888888886|\n",
            "+-----------------+------------------+\n",
            "\n"
          ]
        }
      ]
    },
    {
      "cell_type": "markdown",
      "source": [
        "---"
      ],
      "metadata": {
        "id": "Rbe3ujNeCKd9"
      }
    },
    {
      "cell_type": "code",
      "source": [
        "spark.sql(\"\"\"\n",
        "SELECT *,\n",
        "       ROW_NUMBER() OVER (PARTITION BY product_id ORDER BY total_amt DESC) as rank\n",
        "FROM FactSale as fact\n",
        "\"\"\").show()"
      ],
      "metadata": {
        "colab": {
          "base_uri": "https://localhost:8080/"
        },
        "id": "xbGoPzZDUtIy",
        "outputId": "ec028e8f-af77-4e47-c42f-01f27d3c3e11"
      },
      "execution_count": 15,
      "outputs": [
        {
          "output_type": "stream",
          "name": "stdout",
          "text": [
            "+--------+----------+-----------+-----------+--------+---------+----------+----+\n",
            "|order_id|product_id|customer_id|retailer_id|quantity|total_amt|      date|rank|\n",
            "+--------+----------+-----------+-----------+--------+---------+----------+----+\n",
            "|     325|         1|        849|          2|       3|       75|2023-12-16|   1|\n",
            "|     872|         1|        410|          4|       3|       75|2023-09-08|   2|\n",
            "|    2207|         1|        711|          1|       3|       75|2023-11-30|   3|\n",
            "|    3310|         1|        658|          2|       3|       75|2023-05-06|   4|\n",
            "|    4250|         1|        111|          2|       3|       75|2023-12-29|   5|\n",
            "|    4858|         1|        548|          1|       3|       75|2023-10-20|   6|\n",
            "|     615|         1|        298|          1|       2|       50|2023-02-07|   7|\n",
            "|     704|         1|        535|          4|       2|       50|2023-01-23|   8|\n",
            "|    1364|         1|        351|          2|       2|       50|2023-01-19|   9|\n",
            "|    1400|         1|        719|          1|       2|       50|2023-09-28|  10|\n",
            "|    1996|         1|        659|          2|       2|       50|2023-07-23|  11|\n",
            "|    2251|         1|        832|          1|       2|       50|2023-03-30|  12|\n",
            "|    2545|         1|        892|          1|       2|       50|2023-05-28|  13|\n",
            "|    3023|         1|        955|          1|       2|       50|2023-07-12|  14|\n",
            "|    3744|         1|        463|          2|       2|       50|2023-06-17|  15|\n",
            "|    3933|         1|        521|          2|       2|       50|2023-02-26|  16|\n",
            "|    4520|         1|        524|          2|       2|       50|2023-06-17|  17|\n",
            "|     157|         1|        923|          2|       1|       25|2023-06-22|  18|\n",
            "|     198|         1|        368|          2|       1|       25|2023-07-29|  19|\n",
            "|     476|         1|        545|          1|       1|       25|2023-11-28|  20|\n",
            "+--------+----------+-----------+-----------+--------+---------+----------+----+\n",
            "only showing top 20 rows\n",
            "\n"
          ]
        }
      ]
    },
    {
      "cell_type": "markdown",
      "source": [
        "* Amaç, her ürün için en yüksek tutarlı satışları sıralamak ve takip etmektir."
      ],
      "metadata": {
        "id": "JZpsusaDQ73M"
      }
    },
    {
      "cell_type": "markdown",
      "source": [
        "---"
      ],
      "metadata": {
        "id": "Ir8PUeQsCLVA"
      }
    },
    {
      "cell_type": "code",
      "source": [
        "(\n",
        "    df_sal.groupBy(\"order_id\").agg(\n",
        "        F.sum(\"quantity\").alias(\"total_quantity\"),\n",
        "        F.sum(\"total_amt\").alias(\"total_amount\")\n",
        "    ).orderBy(\"total_quantity\", ascending=False)\n",
        "    .show(10)\n",
        ")"
      ],
      "metadata": {
        "colab": {
          "base_uri": "https://localhost:8080/"
        },
        "id": "dBYqr02saPKd",
        "outputId": "e8c457cb-a654-49b1-a404-ae737db071aa"
      },
      "execution_count": 16,
      "outputs": [
        {
          "output_type": "stream",
          "name": "stdout",
          "text": [
            "+--------+--------------+------------+\n",
            "|order_id|total_quantity|total_amount|\n",
            "+--------+--------------+------------+\n",
            "|    3647|            13|         521|\n",
            "|    2574|            13|         488|\n",
            "|    3515|            13|         402|\n",
            "|     101|            12|         359|\n",
            "|     440|            12|         426|\n",
            "|    3763|            12|         323|\n",
            "|    1585|            12|         488|\n",
            "|    3289|            12|         327|\n",
            "|    2337|            11|         357|\n",
            "|    3743|            11|         359|\n",
            "+--------+--------------+------------+\n",
            "only showing top 10 rows\n",
            "\n"
          ]
        }
      ]
    },
    {
      "cell_type": "markdown",
      "source": [
        "* Amaç, en büyük hacimli siparişleri belirleyerek satış performansını analiz etmektir"
      ],
      "metadata": {
        "id": "sAsCIzzCRFZT"
      }
    },
    {
      "cell_type": "markdown",
      "source": [
        "---"
      ],
      "metadata": {
        "id": "atRc5UBZCMLI"
      }
    },
    {
      "cell_type": "code",
      "source": [
        "(\n",
        "    df_cus\n",
        "    .join(df_reg, df_cus.city_id == df_reg.city_id)\n",
        "    .groupBy(\"region_name\").agg(\n",
        "        F.avg(F.year(F.current_date()) - F.year(\"birth_date\")).alias(\"age\")\n",
        "    )\n",
        "    .orderBy(\"age\", ascending=False)\n",
        "    .show()\n",
        ")"
      ],
      "metadata": {
        "colab": {
          "base_uri": "https://localhost:8080/"
        },
        "id": "ZHb2EGakaPGz",
        "outputId": "c87dbb71-f33e-48d6-e17a-6a215879508c"
      },
      "execution_count": 17,
      "outputs": [
        {
          "output_type": "stream",
          "name": "stdout",
          "text": [
            "+-----------------+------------------+\n",
            "|      region_name|               age|\n",
            "+-----------------+------------------+\n",
            "|          Akdeniz| 51.81521739130435|\n",
            "|     Dogu Anadolu| 51.13095238095238|\n",
            "|Guneydogu Anadolu| 49.58119658119658|\n",
            "|          Marmara|49.189542483660134|\n",
            "|       Ic Anadolu| 49.07772020725388|\n",
            "|        Karadeniz| 48.75121951219512|\n",
            "|              Ege|47.888888888888886|\n",
            "+-----------------+------------------+\n",
            "\n"
          ]
        }
      ]
    },
    {
      "cell_type": "markdown",
      "source": [
        "* Amaç, bölgelerdeki müşteri kitlesinin yaş dağılımını analiz etmektir."
      ],
      "metadata": {
        "id": "TS4cbM-vSEm1"
      }
    },
    {
      "cell_type": "markdown",
      "source": [
        "---"
      ],
      "metadata": {
        "id": "kHmn0sypCNNc"
      }
    },
    {
      "cell_type": "markdown",
      "source": [
        "## Başka Hangi Sorgular Yazılabilir?"
      ],
      "metadata": {
        "id": "aoQmXT2oSUob"
      }
    },
    {
      "cell_type": "code",
      "source": [
        "df_sal.join(df_pro, \"product_id\") \\\n",
        "    .groupBy(\"product_type\") \\\n",
        "    .agg(F.sum(\"total_amt\").alias(\"total_revenue\")) \\\n",
        "    .orderBy(\"total_revenue\", ascending=False) \\\n",
        "    .show()"
      ],
      "metadata": {
        "id": "H3s4i2Dvs-ud",
        "colab": {
          "base_uri": "https://localhost:8080/"
        },
        "outputId": "69e59025-5740-437e-9326-d8436ad0059d"
      },
      "execution_count": 18,
      "outputs": [
        {
          "output_type": "stream",
          "name": "stdout",
          "text": [
            "+------------+-------------+\n",
            "|product_type|total_revenue|\n",
            "+------------+-------------+\n",
            "|      Jacket|       237113|\n",
            "|    Trousers|       228603|\n",
            "|       Shirt|       139614|\n",
            "|      Tshirt|       103765|\n",
            "+------------+-------------+\n",
            "\n"
          ]
        }
      ]
    },
    {
      "cell_type": "markdown",
      "source": [
        "* Amaç: Hangi ürün türü (Jacket, Tshirt, vb.) daha fazla ciro getirmiş?"
      ],
      "metadata": {
        "id": "n92w60unSZ8F"
      }
    },
    {
      "cell_type": "markdown",
      "source": [
        "---"
      ],
      "metadata": {
        "id": "EtGAKVNjCOhn"
      }
    },
    {
      "cell_type": "code",
      "source": [
        "df_sal.withColumn(\"month\", F.month(\"date\")) \\\n",
        "    .groupBy(\"month\") \\\n",
        "    .agg(F.sum(\"total_amt\").alias(\"monthly_revenue\")) \\\n",
        "    .orderBy(\"month\") \\\n",
        "    .show()"
      ],
      "metadata": {
        "id": "MmRbh91ys-ri",
        "colab": {
          "base_uri": "https://localhost:8080/"
        },
        "outputId": "da48f970-4528-423d-c3b1-788ca8d3d6ba"
      },
      "execution_count": 19,
      "outputs": [
        {
          "output_type": "stream",
          "name": "stdout",
          "text": [
            "+-----+---------------+\n",
            "|month|monthly_revenue|\n",
            "+-----+---------------+\n",
            "|    1|          62906|\n",
            "|    2|          53313|\n",
            "|    3|          62365|\n",
            "|    4|          65533|\n",
            "|    5|          61612|\n",
            "|    6|          53981|\n",
            "|    7|          62887|\n",
            "|    8|          54599|\n",
            "|    9|          57765|\n",
            "|   10|          60040|\n",
            "|   11|          58401|\n",
            "|   12|          55693|\n",
            "+-----+---------------+\n",
            "\n"
          ]
        }
      ]
    },
    {
      "cell_type": "markdown",
      "source": [
        "* Amaç: Satışlar yıl içinde hangi aylarda daha yüksek?"
      ],
      "metadata": {
        "id": "8ClzL3LfSgHF"
      }
    },
    {
      "cell_type": "markdown",
      "source": [
        "---"
      ],
      "metadata": {
        "id": "zB99EXYFCPfS"
      }
    },
    {
      "cell_type": "code",
      "source": [
        "from pyspark.sql.window import Window\n",
        "from pyspark.sql.functions import lag, datediff\n",
        "\n",
        "window_spec = Window.partitionBy(\"customer_id\").orderBy(\"date\")\n",
        "\n",
        "df_sal.withColumn(\"prev_date\", lag(\"date\").over(window_spec)) \\\n",
        "    .withColumn(\"days_between_orders\", datediff(\"date\", \"prev_date\")) \\\n",
        "    .select(\"customer_id\", \"order_id\", \"date\", \"days_between_orders\") \\\n",
        "    .show()"
      ],
      "metadata": {
        "id": "DtYjgKcEs-ot",
        "colab": {
          "base_uri": "https://localhost:8080/"
        },
        "outputId": "e27f3471-59e4-4996-a11d-78d2eb909b54"
      },
      "execution_count": 20,
      "outputs": [
        {
          "output_type": "stream",
          "name": "stdout",
          "text": [
            "+-----------+--------+----------+-------------------+\n",
            "|customer_id|order_id|      date|days_between_orders|\n",
            "+-----------+--------+----------+-------------------+\n",
            "|          1|    3161|2023-03-19|               NULL|\n",
            "|          1|    3161|2023-03-19|                  0|\n",
            "|          1|    3161|2023-03-19|                  0|\n",
            "|          1|    3161|2023-03-19|                  0|\n",
            "|          1|    3161|2023-03-19|                  0|\n",
            "|          1|    4146|2023-06-28|                101|\n",
            "|          1|    4146|2023-06-28|                  0|\n",
            "|          1|    4146|2023-06-28|                  0|\n",
            "|          1|    4146|2023-06-28|                  0|\n",
            "|          1|    2756|2023-07-23|                 25|\n",
            "|          1|    2756|2023-07-23|                  0|\n",
            "|          1|    2756|2023-07-23|                  0|\n",
            "|          1|    3796|2023-08-11|                 19|\n",
            "|          1|    3796|2023-08-11|                  0|\n",
            "|          1|    3796|2023-08-11|                  0|\n",
            "|          1|    3796|2023-08-11|                  0|\n",
            "|          1|    1228|2023-11-18|                 99|\n",
            "|          1|    1228|2023-11-18|                  0|\n",
            "|          1|    1228|2023-11-18|                  0|\n",
            "|          1|    1228|2023-11-18|                  0|\n",
            "+-----------+--------+----------+-------------------+\n",
            "only showing top 20 rows\n",
            "\n"
          ]
        }
      ]
    },
    {
      "cell_type": "markdown",
      "source": [
        "* Amaç: Müşteriler ne sıklıkla alışveriş yapıyor?"
      ],
      "metadata": {
        "id": "rgeDZBNBVAMK"
      }
    },
    {
      "cell_type": "markdown",
      "source": [
        "---"
      ],
      "metadata": {
        "id": "AFOv4479CQfC"
      }
    },
    {
      "cell_type": "code",
      "source": [
        "spark.sql(\"\"\"\n",
        "SELECT\n",
        "    r.region_name,\n",
        "    COUNT(DISTINCT fs.order_id) AS total_orders\n",
        "FROM FactSale fs\n",
        "JOIN DimCustomer c ON fs.customer_id = c.customer_id\n",
        "JOIN DimRegion r ON c.city_id = r.city_id\n",
        "GROUP BY r.region_name\n",
        "ORDER BY total_orders DESC\n",
        "LIMIT 5\n",
        "\"\"\").show()"
      ],
      "metadata": {
        "id": "lY8ZoIqds-mE",
        "colab": {
          "base_uri": "https://localhost:8080/"
        },
        "outputId": "00b96f25-8f61-4b9b-cc09-eb1f92796423"
      },
      "execution_count": 21,
      "outputs": [
        {
          "output_type": "stream",
          "name": "stdout",
          "text": [
            "+-----------------+------------+\n",
            "|      region_name|total_orders|\n",
            "+-----------------+------------+\n",
            "|        Karadeniz|        1029|\n",
            "|       Ic Anadolu|         956|\n",
            "|     Dogu Anadolu|         859|\n",
            "|          Marmara|         760|\n",
            "|Guneydogu Anadolu|         569|\n",
            "+-----------------+------------+\n",
            "\n"
          ]
        }
      ]
    },
    {
      "cell_type": "markdown",
      "source": [
        "* Amaç: Hangi bölgelerde en fazla sipariş verildiğini analiz ederek, satış yoğunluğu olan bölgeleri belirlemek."
      ],
      "metadata": {
        "id": "GSqidNDfVg0a"
      }
    },
    {
      "cell_type": "markdown",
      "source": [
        "---"
      ],
      "metadata": {
        "id": "K_REEl2YCRVC"
      }
    },
    {
      "cell_type": "code",
      "source": [
        "spark.sql(\"\"\"\n",
        "SELECT\n",
        "    s.sup_name,\n",
        "    ROUND(SUM(fp.total_cost) / SUM(fp.pur_quan), 2) AS avg_unit_cost\n",
        "FROM FactPurchase fp\n",
        "JOIN DimSupplier s ON fp.supplier_id = s.supplier_id\n",
        "GROUP BY s.sup_name\n",
        "ORDER BY avg_unit_cost DESC\n",
        "\"\"\").show()"
      ],
      "metadata": {
        "colab": {
          "base_uri": "https://localhost:8080/"
        },
        "id": "hXVhDORISm2I",
        "outputId": "952b0fd1-3144-407e-ca30-77361c2b0ec4"
      },
      "execution_count": 22,
      "outputs": [
        {
          "output_type": "stream",
          "name": "stdout",
          "text": [
            "+------------+-------------+\n",
            "|    sup_name|avg_unit_cost|\n",
            "+------------+-------------+\n",
            "|Side Tekstil|        31.66|\n",
            "| Ege Ruzgari|         30.9|\n",
            "|  Moda Kumas|        14.05|\n",
            "|Kumas Sanati|         6.66|\n",
            "+------------+-------------+\n",
            "\n"
          ]
        }
      ]
    },
    {
      "cell_type": "markdown",
      "source": [
        "* Amaç: Hangi tedarikçiden alınan ürünlerin birim maliyetinin daha yüksek veya düşük olduğunu analiz etmek."
      ],
      "metadata": {
        "id": "0kz2I4hkVx6t"
      }
    },
    {
      "cell_type": "markdown",
      "source": [
        "---"
      ],
      "metadata": {
        "id": "sCQApAl5CSEK"
      }
    },
    {
      "cell_type": "code",
      "source": [
        "spark.sql(\"\"\"SELECT COUNT(*) AS customer_count\n",
        "FROM (\n",
        "    SELECT customer_id, product_id, COUNT(*) AS times\n",
        "    FROM FactSale\n",
        "    GROUP BY customer_id, product_id\n",
        "    HAVING COUNT(*) > 1\n",
        ") AS sub\"\"\").show()"
      ],
      "metadata": {
        "colab": {
          "base_uri": "https://localhost:8080/"
        },
        "id": "PgeonAq_SmzV",
        "outputId": "e4e00243-4e91-434d-c81e-a4a4b9ec76c5"
      },
      "execution_count": 23,
      "outputs": [
        {
          "output_type": "stream",
          "name": "stdout",
          "text": [
            "+--------------+\n",
            "|customer_count|\n",
            "+--------------+\n",
            "|           357|\n",
            "+--------------+\n",
            "\n"
          ]
        }
      ]
    },
    {
      "cell_type": "markdown",
      "source": [
        "* Amaç: Ürünlere olan sadakati ölçmek ve tekrar eden alışveriş yapan müşteri sayısını analiz etmek."
      ],
      "metadata": {
        "id": "6aMPkQ_qWANA"
      }
    },
    {
      "cell_type": "markdown",
      "source": [
        "---"
      ],
      "metadata": {
        "id": "FvoaFAv7CTo6"
      }
    },
    {
      "cell_type": "code",
      "source": [
        "from pyspark.sql.window import Window\n",
        "from pyspark.sql.functions import row_number\n",
        "\n",
        "top_product_df = df_sal \\\n",
        "    .join(df_cus, \"customer_id\") \\\n",
        "    .join(df_reg, df_cus.city_id == df_reg.city_id) \\\n",
        "    .join(df_pro, \"product_id\") \\\n",
        "    .groupBy(\"region_name\", \"product_type\") \\\n",
        "    .agg(F.sum(\"quantity\").alias(\"total_quantity\"))\n",
        "\n",
        "window_spec = Window.partitionBy(\"region_name\").orderBy(F.desc(\"total_quantity\"))\n",
        "\n",
        "top_product_df \\\n",
        "    .withColumn(\"rank\", row_number().over(window_spec)) \\\n",
        "    .filter(\"rank == 1\") \\\n",
        "    .select(\"region_name\", \"product_type\", \"total_quantity\") \\\n",
        "    .show()"
      ],
      "metadata": {
        "colab": {
          "base_uri": "https://localhost:8080/"
        },
        "id": "wAkF7UESSmv6",
        "outputId": "cbc2ce85-0286-414b-dac3-4509f967529c"
      },
      "execution_count": 24,
      "outputs": [
        {
          "output_type": "stream",
          "name": "stdout",
          "text": [
            "+-----------------+------------+--------------+\n",
            "|      region_name|product_type|total_quantity|\n",
            "+-----------------+------------+--------------+\n",
            "|          Akdeniz|    Trousers|           577|\n",
            "|     Dogu Anadolu|      Jacket|          1068|\n",
            "|              Ege|      Tshirt|           458|\n",
            "|Guneydogu Anadolu|      Jacket|           723|\n",
            "|       Ic Anadolu|      Tshirt|          1184|\n",
            "|        Karadeniz|    Trousers|          1188|\n",
            "|          Marmara|      Tshirt|           970|\n",
            "+-----------------+------------+--------------+\n",
            "\n"
          ]
        }
      ]
    },
    {
      "cell_type": "markdown",
      "source": [
        "* Amaç: Her bölgedeki müşteri tercihlerine göre hangi ürün tipinin daha çok satıldığını belirlemek."
      ],
      "metadata": {
        "id": "l-tEXDYlWSRc"
      }
    },
    {
      "cell_type": "markdown",
      "source": [
        "---"
      ],
      "metadata": {
        "id": "dZYmhXGSCVd2"
      }
    },
    {
      "cell_type": "markdown",
      "source": [
        "## Assessment 1 – Ceket Satışlarının Bölgesel Dağılımı\n",
        "\n",
        "### Hedef:\n",
        "2023 Haziran-Ağustos ayları arasında ceket satışlarının toplam miktar ve ciro bazında **bölgelere göre dağılımını** elde etmek.\n",
        "\n",
        "### Uygulanan Filtreler:\n",
        "- `product_type = 'Jacket'`\n",
        "- `date` ∈ [2023-06-01, 2023-08-31]\n",
        "\n",
        "### Elde Edilen Sütunlar:\n",
        "- `region_name`\n",
        "- `product_type`\n",
        "- `total_quantity`\n",
        "- `total_amount`"
      ],
      "metadata": {
        "id": "j8IUv15IbCq8"
      }
    },
    {
      "cell_type": "markdown",
      "source": [
        "Not : Öncesinde tüm tablolardaki sütunları rahatça görebilmek ve hangi sütunların kullanacağına karar verebilmek amacıyla tablolar üzerinde incelemeler yapıldı."
      ],
      "metadata": {
        "id": "kTEB6YgAZtYo"
      }
    },
    {
      "cell_type": "code",
      "source": [
        "spark.sql(\"\"\"\n",
        "SELECT\n",
        "    *\n",
        "FROM DimRegion\n",
        "\"\"\").show(5)"
      ],
      "metadata": {
        "colab": {
          "base_uri": "https://localhost:8080/"
        },
        "id": "QJG8yM1-aPDM",
        "outputId": "13f72e2c-f6a9-460d-f7f1-034ac531cc51"
      },
      "execution_count": 25,
      "outputs": [
        {
          "output_type": "stream",
          "name": "stdout",
          "text": [
            "+-------+--------------+-----------------+\n",
            "|city_id|     city_name|      region_name|\n",
            "+-------+--------------+-----------------+\n",
            "|      1|         Adana|       Ic Anadolu|\n",
            "|      2|      Adiyaman|Guneydogu Anadolu|\n",
            "|      3|Afyonkarahisar|       Ic Anadolu|\n",
            "|      4|          Agri|     Dogu Anadolu|\n",
            "|      5|        Amasya|        Karadeniz|\n",
            "+-------+--------------+-----------------+\n",
            "only showing top 5 rows\n",
            "\n"
          ]
        }
      ]
    },
    {
      "cell_type": "markdown",
      "source": [
        "---"
      ],
      "metadata": {
        "id": "G_C9VR2OCYyF"
      }
    },
    {
      "cell_type": "code",
      "source": [
        "spark.sql(\"\"\"\n",
        "SELECT\n",
        "    *\n",
        "FROM DimProduct\n",
        "\"\"\").show(5)"
      ],
      "metadata": {
        "colab": {
          "base_uri": "https://localhost:8080/"
        },
        "id": "dR1Al5OIaPA8",
        "outputId": "a4f66538-f1a0-4520-af97-30edfcc1c5a4"
      },
      "execution_count": 26,
      "outputs": [
        {
          "output_type": "stream",
          "name": "stdout",
          "text": [
            "+----------+------------+------------+------+------+--------+----------+\n",
            "|product_id|product_code|product_type|colour|  size|material|unit_price|\n",
            "+----------+------------+------------+------+------+--------+----------+\n",
            "|         1| BTS001BLC-S|      Tshirt| Black| Small|  Cotton|        25|\n",
            "|         2| BTS001BLC-M|      Tshirt| Black|Medium|  Cotton|        25|\n",
            "|         3| BTS001BLC-L|      Tshirt| Black| Large|  Cotton|        25|\n",
            "|         4|BTS001BLC-XL|      Tshirt| Black|XLarge|  Cotton|        25|\n",
            "|         5|  BTS001WC-S|      Tshirt| White| Small|  Cotton|        25|\n",
            "+----------+------------+------------+------+------+--------+----------+\n",
            "only showing top 5 rows\n",
            "\n"
          ]
        }
      ]
    },
    {
      "cell_type": "markdown",
      "source": [
        "---"
      ],
      "metadata": {
        "id": "gHeQ6za9CZja"
      }
    },
    {
      "cell_type": "code",
      "source": [
        "spark.sql(\"\"\"\n",
        "SELECT\n",
        "    *\n",
        "FROM FactSale\n",
        "\"\"\").show(5)"
      ],
      "metadata": {
        "colab": {
          "base_uri": "https://localhost:8080/"
        },
        "id": "df263A9taO--",
        "outputId": "3c098aea-0a85-4d4d-d249-39b70e991f5d"
      },
      "execution_count": 27,
      "outputs": [
        {
          "output_type": "stream",
          "name": "stdout",
          "text": [
            "+--------+----------+-----------+-----------+--------+---------+----------+\n",
            "|order_id|product_id|customer_id|retailer_id|quantity|total_amt|      date|\n",
            "+--------+----------+-----------+-----------+--------+---------+----------+\n",
            "|       1|       241|        551|          2|       1|       32|2023-08-30|\n",
            "|       1|       139|        551|          2|       1|       23|2023-08-30|\n",
            "|       1|        36|        551|          2|       1|       20|2023-08-30|\n",
            "|       1|       319|        551|          2|       1|       41|2023-08-30|\n",
            "|       1|         5|        551|          2|       1|       25|2023-08-30|\n",
            "+--------+----------+-----------+-----------+--------+---------+----------+\n",
            "only showing top 5 rows\n",
            "\n"
          ]
        }
      ]
    },
    {
      "cell_type": "markdown",
      "source": [
        "---"
      ],
      "metadata": {
        "id": "3Kwx3F8VCaOQ"
      }
    },
    {
      "cell_type": "code",
      "source": [
        "spark.sql(\"\"\"\n",
        "SELECT\n",
        "    *\n",
        "FROM DimCustomer\n",
        "\"\"\").show(5)"
      ],
      "metadata": {
        "colab": {
          "base_uri": "https://localhost:8080/"
        },
        "id": "5xEGQ2Yqkk61",
        "outputId": "a03da380-36b6-46ec-fffb-f7a9e9264f10"
      },
      "execution_count": 28,
      "outputs": [
        {
          "output_type": "stream",
          "name": "stdout",
          "text": [
            "+-----------+-------+-------+--------+------+----------+-------------+--------------------+\n",
            "|customer_id|city_id|   name| surname|gender|birth_date|        phone|               email|\n",
            "+-----------+-------+-------+--------+------+----------+-------------+--------------------+\n",
            "|          1|     30| Jazmin|  Burril|Female|1958-09-22|(493) 8889636|jburril0@soundclo...|\n",
            "|          2|     25| Dalila|   Faers|Female|2000-11-08|(404) 6357120|dfaers1@sitemeter...|\n",
            "|          3|     15|Wayland|Walework|  Male|1976-03-08|(277) 1691679|wwalework2@quantc...|\n",
            "|          4|     42|Amberly|  Haquin|Female|1948-10-08|(460) 2147509|ahaquin3@telegrap...|\n",
            "|          5|     41|Garrett|   Frear|  Male|1957-09-25|(858) 3767105|     gfrear4@tiny.cc|\n",
            "+-----------+-------+-------+--------+------+----------+-------------+--------------------+\n",
            "only showing top 5 rows\n",
            "\n"
          ]
        }
      ]
    },
    {
      "cell_type": "markdown",
      "source": [
        "---"
      ],
      "metadata": {
        "id": "lVcfKVFuCa_p"
      }
    },
    {
      "cell_type": "code",
      "source": [
        "spark.sql(\"\"\"\n",
        "SELECT\n",
        "    *\n",
        "FROM FactPurchase\n",
        "\"\"\").show(5)"
      ],
      "metadata": {
        "colab": {
          "base_uri": "https://localhost:8080/"
        },
        "id": "bdWMnhE-koyF",
        "outputId": "64722e0d-70d5-4ff1-f98b-4ae3d2eb5cdd"
      },
      "execution_count": 29,
      "outputs": [
        {
          "output_type": "stream",
          "name": "stdout",
          "text": [
            "+-----------+-----------+----------+--------+---------+----------+----------+\n",
            "|purchase_id|supplier_id|product_id|pur_quan|pur_price|total_cost|      date|\n",
            "+-----------+-----------+----------+--------+---------+----------+----------+\n",
            "|          1|          2|         1|    1000|       10|     10000|2023-01-01|\n",
            "|          2|          2|         2|    1500|       10|     10000|2023-01-01|\n",
            "|          3|          2|         3|     500|       10|      5000|2023-01-01|\n",
            "|          4|          2|         4|    1000|       10|      5000|2023-01-01|\n",
            "|          5|          2|         5|    1000|       10|     15000|2023-01-01|\n",
            "+-----------+-----------+----------+--------+---------+----------+----------+\n",
            "only showing top 5 rows\n",
            "\n"
          ]
        }
      ]
    },
    {
      "cell_type": "markdown",
      "source": [
        "---"
      ],
      "metadata": {
        "id": "gaRbQaDkCbrR"
      }
    },
    {
      "cell_type": "code",
      "source": [
        "spark.sql(\"\"\"\n",
        "SELECT\n",
        "    *\n",
        "FROM DimRetailer\n",
        "\"\"\").show()"
      ],
      "metadata": {
        "colab": {
          "base_uri": "https://localhost:8080/"
        },
        "id": "Mxe9tMgSkovt",
        "outputId": "1518cf68-3205-47a0-ad61-ee4d782362f2"
      },
      "execution_count": 30,
      "outputs": [
        {
          "output_type": "stream",
          "name": "stdout",
          "text": [
            "+-----------+-------+-------------+-------------+\n",
            "|retailer_id|city_id|retailer_type|retailer_name|\n",
            "+-----------+-------+-------------+-------------+\n",
            "|          1|     34|     Internet|            A|\n",
            "|          2|     34|     Internet|            B|\n",
            "|          3|     34|     Internet|            C|\n",
            "|          4|     35|     Internet|            D|\n",
            "+-----------+-------+-------------+-------------+\n",
            "\n"
          ]
        }
      ]
    },
    {
      "cell_type": "markdown",
      "source": [
        "---"
      ],
      "metadata": {
        "id": "yOO-wjBBCcZE"
      }
    },
    {
      "cell_type": "code",
      "source": [
        "spark.sql(\"\"\"\n",
        "SELECT\n",
        "    *\n",
        "FROM DimSupplier\n",
        "\"\"\").show()"
      ],
      "metadata": {
        "colab": {
          "base_uri": "https://localhost:8080/"
        },
        "id": "zUFbqvGEkotH",
        "outputId": "842818a9-80b2-4975-ae67-1d488c860837"
      },
      "execution_count": 31,
      "outputs": [
        {
          "output_type": "stream",
          "name": "stdout",
          "text": [
            "+-----------+-------+------------+--------+\n",
            "|supplier_id|city_id|    sup_name|sup_type|\n",
            "+-----------+-------+------------+--------+\n",
            "|          1|      6|  Moda Kumas|   Shirt|\n",
            "|          2|     34|Kumas Sanati|  Tshirt|\n",
            "|          3|      7|Side Tekstil|Trousers|\n",
            "|          4|     35| Ege Ruzgari|  Jacket|\n",
            "+-----------+-------+------------+--------+\n",
            "\n"
          ]
        }
      ]
    },
    {
      "cell_type": "markdown",
      "source": [
        "---"
      ],
      "metadata": {
        "id": "7YRvqeKPCdJO"
      }
    },
    {
      "cell_type": "code",
      "source": [
        "spark.sql(\"\"\"\n",
        "SELECT\n",
        "    *\n",
        "FROM DimDate\n",
        "\"\"\").show(5)"
      ],
      "metadata": {
        "colab": {
          "base_uri": "https://localhost:8080/"
        },
        "id": "vdzdYuRGkoq4",
        "outputId": "83519c33-124a-4379-f716-d3c4fe8eb192"
      },
      "execution_count": 32,
      "outputs": [
        {
          "output_type": "stream",
          "name": "stdout",
          "text": [
            "+----------+---------+----+-----+-------+----+\n",
            "|      date|      day|week|month|quarter|year|\n",
            "+----------+---------+----+-----+-------+----+\n",
            "|2023-01-01|   Sunday|   1|    1|     Q1|2023|\n",
            "|2023-01-02|   Monday|   1|    1|     Q1|2023|\n",
            "|2023-01-03|  Tuesday|   1|    1|     Q1|2023|\n",
            "|2023-01-04|Wednesday|   1|    1|     Q1|2023|\n",
            "|2023-01-05| Thursday|   1|    1|     Q1|2023|\n",
            "+----------+---------+----+-----+-------+----+\n",
            "only showing top 5 rows\n",
            "\n"
          ]
        }
      ]
    },
    {
      "cell_type": "markdown",
      "source": [
        "---"
      ],
      "metadata": {
        "id": "H9Bs9oUHCee1"
      }
    },
    {
      "cell_type": "markdown",
      "source": [
        "## Spark SQL ile Çözüm:"
      ],
      "metadata": {
        "id": "-78JNZauaKVh"
      }
    },
    {
      "cell_type": "markdown",
      "source": [
        "### Not : İstenen çıktıya tamamen uydurmak için Case yapısı kullanıldı. Case yapısı kullanmadan elde edilen çıktı:\n"
      ],
      "metadata": {
        "id": "jOI7IHlkaYw7"
      }
    },
    {
      "cell_type": "code",
      "source": [
        "spark.sql(\"\"\"\n",
        "SELECT\n",
        "    r.region_name,\n",
        "    'Jacket' AS product_type,\n",
        "    SUM(fs.quantity) AS total_quantity,\n",
        "    SUM(fs.total_amt) AS total_amount\n",
        "FROM FactSale fs\n",
        "JOIN DimProduct p ON fs.product_id = p.product_id\n",
        "JOIN DimCustomer c ON fs.customer_id = c.customer_id\n",
        "JOIN DimRegion r ON c.city_id = r.city_id\n",
        "WHERE p.product_type = 'Jacket'\n",
        "  AND CAST(fs.date AS DATE) BETWEEN DATE('2023-06-01') AND DATE('2023-08-31')\n",
        "GROUP BY r.region_name\n",
        "ORDER BY total_quantity DESC, region_name ASC\n",
        "\"\"\").show()"
      ],
      "metadata": {
        "colab": {
          "base_uri": "https://localhost:8080/"
        },
        "id": "qZJQBwpmkon9",
        "outputId": "d9459c13-9d34-47c5-f443-70f4c0a7525a"
      },
      "execution_count": 33,
      "outputs": [
        {
          "output_type": "stream",
          "name": "stdout",
          "text": [
            "+-----------------+------------+--------------+------------+\n",
            "|      region_name|product_type|total_quantity|total_amount|\n",
            "+-----------------+------------+--------------+------------+\n",
            "|        Karadeniz|      Jacket|           310|       12582|\n",
            "|     Dogu Anadolu|      Jacket|           284|       11547|\n",
            "|       Ic Anadolu|      Jacket|           260|       10496|\n",
            "|          Marmara|      Jacket|           213|        8358|\n",
            "|Guneydogu Anadolu|      Jacket|           176|        6981|\n",
            "|          Akdeniz|      Jacket|           162|        6637|\n",
            "|              Ege|      Jacket|           101|        3953|\n",
            "+-----------------+------------+--------------+------------+\n",
            "\n"
          ]
        }
      ]
    },
    {
      "cell_type": "markdown",
      "source": [
        "---"
      ],
      "metadata": {
        "id": "cqDcMQRPCf0I"
      }
    },
    {
      "cell_type": "markdown",
      "source": [
        "### Case yapısı kullanılarak elde edilen çıktı:"
      ],
      "metadata": {
        "id": "SIs-s4Z0amr5"
      }
    },
    {
      "cell_type": "code",
      "source": [
        "spark.sql(\"\"\"\n",
        "SELECT\n",
        "    r.region_name,\n",
        "    'Jacket' AS product_type,\n",
        "    SUM(fs.quantity) AS total_quantity,\n",
        "    SUM(fs.total_amt) AS total_amount\n",
        "FROM FactSale fs\n",
        "JOIN DimProduct p ON fs.product_id = p.product_id\n",
        "JOIN DimCustomer c ON fs.customer_id = c.customer_id\n",
        "JOIN DimRegion r ON c.city_id = r.city_id\n",
        "WHERE p.product_type = 'Jacket'\n",
        "  AND CAST(fs.date AS DATE) BETWEEN DATE('2023-06-01') AND DATE('2023-08-31')\n",
        "GROUP BY r.region_name\n",
        "ORDER BY CASE r.region_name\n",
        "    WHEN 'Marmara' THEN 1\n",
        "    WHEN 'Dogu Anadolu' THEN 2\n",
        "    WHEN 'Guneydogu Anadolu' THEN 3\n",
        "    WHEN 'Ic Anadolu' THEN 4\n",
        "    WHEN 'Akdeniz' THEN 5\n",
        "    WHEN 'Karadeniz' THEN 6\n",
        "    WHEN 'Ege' THEN 7\n",
        "    ELSE 8\n",
        "END\n",
        "\"\"\").show()"
      ],
      "metadata": {
        "colab": {
          "base_uri": "https://localhost:8080/"
        },
        "id": "pgVj1vbUkokK",
        "outputId": "8857e111-0f61-4c66-fb5f-f37244a6af3d"
      },
      "execution_count": 34,
      "outputs": [
        {
          "output_type": "stream",
          "name": "stdout",
          "text": [
            "+-----------------+------------+--------------+------------+\n",
            "|      region_name|product_type|total_quantity|total_amount|\n",
            "+-----------------+------------+--------------+------------+\n",
            "|          Marmara|      Jacket|           213|        8358|\n",
            "|     Dogu Anadolu|      Jacket|           284|       11547|\n",
            "|Guneydogu Anadolu|      Jacket|           176|        6981|\n",
            "|       Ic Anadolu|      Jacket|           260|       10496|\n",
            "|          Akdeniz|      Jacket|           162|        6637|\n",
            "|        Karadeniz|      Jacket|           310|       12582|\n",
            "|              Ege|      Jacket|           101|        3953|\n",
            "+-----------------+------------+--------------+------------+\n",
            "\n"
          ]
        }
      ]
    },
    {
      "cell_type": "markdown",
      "source": [
        "---"
      ],
      "metadata": {
        "id": "nrfXcrTACg4p"
      }
    },
    {
      "cell_type": "markdown",
      "source": [
        "## PySpark API ile Çözüm :"
      ],
      "metadata": {
        "id": "yITt_2fav1W1"
      }
    },
    {
      "cell_type": "markdown",
      "source": [
        "### Spark tablosuna dönüştürme işlemi :"
      ],
      "metadata": {
        "id": "YOd0AMavblhh"
      }
    },
    {
      "cell_type": "code",
      "source": [
        "FactSale = spark.table(\"FactSale\")\n",
        "DimProduct = spark.table(\"DimProduct\")\n",
        "DimCustomer = spark.table(\"DimCustomer\")\n",
        "DimRegion = spark.table(\"DimRegion\")"
      ],
      "metadata": {
        "id": "IeHOjyYGw9qn"
      },
      "execution_count": 35,
      "outputs": []
    },
    {
      "cell_type": "markdown",
      "source": [
        "---"
      ],
      "metadata": {
        "id": "7yqKNNwJCh2_"
      }
    },
    {
      "cell_type": "markdown",
      "source": [
        "### DataFrame oluşturma:"
      ],
      "metadata": {
        "id": "dPMjHsdfbq-q"
      }
    },
    {
      "cell_type": "code",
      "source": [
        "from pyspark.sql.functions import col, sum as _sum, lit, to_date, when\n",
        "\n",
        "result_df = FactSale \\\n",
        "    .join(DimProduct, \"product_id\") \\\n",
        "    .join(DimCustomer, \"customer_id\") \\\n",
        "    .join(DimRegion, DimCustomer[\"city_id\"] == DimRegion[\"city_id\"]) \\\n",
        "    .filter(\n",
        "        (col(\"product_type\") == \"Jacket\") &\n",
        "        (to_date(\"date\") >= lit(\"2023-06-01\")) &\n",
        "        (to_date(\"date\") <= lit(\"2023-08-31\"))\n",
        "    ) \\\n",
        "    .groupBy(\"region_name\") \\\n",
        "    .agg(\n",
        "        lit(\"Jacket\").alias(\"product_type\"),\n",
        "        _sum(\"quantity\").alias(\"total_quantity\"),\n",
        "        _sum(\"total_amt\").alias(\"total_amount\")\n",
        "    )"
      ],
      "metadata": {
        "id": "jwrH7j5pkohQ"
      },
      "execution_count": 36,
      "outputs": []
    },
    {
      "cell_type": "markdown",
      "source": [
        "---"
      ],
      "metadata": {
        "id": "CKrfBXUqCil4"
      }
    },
    {
      "cell_type": "markdown",
      "source": [
        "### Sıralama:"
      ],
      "metadata": {
        "id": "P9TyaiCnkFxW"
      }
    },
    {
      "cell_type": "code",
      "source": [
        "ordered_df = result_df.withColumn(\n",
        "    \"sort_order\",\n",
        "    when(col(\"region_name\") == \"Marmara\", 1)\n",
        "    .when(col(\"region_name\") == \"Dogu Anadolu\", 2)\n",
        "    .when(col(\"region_name\") == \"Guneydogu Anadolu\", 3)\n",
        "    .when(col(\"region_name\") == \"Ic Anadolu\", 4)\n",
        "    .when(col(\"region_name\") == \"Akdeniz\", 5)\n",
        "    .when(col(\"region_name\") == \"Karadeniz\", 6)\n",
        "    .when(col(\"region_name\") == \"Ege\", 7)\n",
        "    .otherwise(8)\n",
        ")"
      ],
      "metadata": {
        "id": "lx0z-T25kofQ"
      },
      "execution_count": 37,
      "outputs": []
    },
    {
      "cell_type": "markdown",
      "source": [
        "---"
      ],
      "metadata": {
        "id": "3gp6IYt-CkLr"
      }
    },
    {
      "cell_type": "code",
      "source": [
        "ordered_df.orderBy(\"sort_order\").select(\n",
        "    \"region_name\", \"product_type\", \"total_quantity\", \"total_amount\"\n",
        ").show()"
      ],
      "metadata": {
        "colab": {
          "base_uri": "https://localhost:8080/"
        },
        "id": "oG9C6VNRkocQ",
        "outputId": "bc877924-8477-47e2-d75b-ae8aa2e6e368"
      },
      "execution_count": 38,
      "outputs": [
        {
          "output_type": "stream",
          "name": "stdout",
          "text": [
            "+-----------------+------------+--------------+------------+\n",
            "|      region_name|product_type|total_quantity|total_amount|\n",
            "+-----------------+------------+--------------+------------+\n",
            "|          Marmara|      Jacket|           213|        8358|\n",
            "|     Dogu Anadolu|      Jacket|           284|       11547|\n",
            "|Guneydogu Anadolu|      Jacket|           176|        6981|\n",
            "|       Ic Anadolu|      Jacket|           260|       10496|\n",
            "|          Akdeniz|      Jacket|           162|        6637|\n",
            "|        Karadeniz|      Jacket|           310|       12582|\n",
            "|              Ege|      Jacket|           101|        3953|\n",
            "+-----------------+------------+--------------+------------+\n",
            "\n"
          ]
        }
      ]
    },
    {
      "cell_type": "markdown",
      "source": [
        "---"
      ],
      "metadata": {
        "id": "Mc6iQdvBClMe"
      }
    },
    {
      "cell_type": "markdown",
      "source": [
        "## Assessment 2 – Perakendecilerin Bölgesel Ciro Analizi\n",
        "\n",
        "### Hedef:\n",
        "Her perakendecinin ceket satışlarıyla en fazla ciro yaptığı **bölgeyi belirlemek**.\n",
        "\n",
        "### Adımlar:\n",
        "1. Satışlar, müşteri lokasyonuna göre bölgelere bağlandı (customer → city → region)\n",
        "2. Her `retailer_id` için `region_name` bazında toplam `total_amt` hesaplandı.\n",
        "3. `ROW_NUMBER() OVER (...)` window function ile en yüksek ciro yapılan bölge tespit edildi."
      ],
      "metadata": {
        "id": "BuzQ_-PIxZpz"
      }
    },
    {
      "cell_type": "markdown",
      "source": [
        "## Spark SQL ile Çözüm:\n"
      ],
      "metadata": {
        "id": "vaBtMCpVe85h"
      }
    },
    {
      "cell_type": "code",
      "source": [
        "spark.sql(\"\"\"\n",
        "SELECT\n",
        "    retailer_id,\n",
        "    retailer_name,\n",
        "    region_name,\n",
        "    total_amount\n",
        "FROM (\n",
        "    SELECT\n",
        "        fs.retailer_id,\n",
        "        dr.retailer_name,\n",
        "        r.region_name,\n",
        "        SUM(fs.total_amt) AS total_amount,\n",
        "        ROW_NUMBER() OVER (\n",
        "            PARTITION BY fs.retailer_id\n",
        "            ORDER BY SUM(fs.total_amt) DESC\n",
        "        ) AS rank\n",
        "    FROM FactSale fs\n",
        "    JOIN DimRetailer dr ON fs.retailer_id = dr.retailer_id\n",
        "    JOIN DimCustomer c ON fs.customer_id = c.customer_id\n",
        "    JOIN DimRegion r ON c.city_id = r.city_id\n",
        "    GROUP BY fs.retailer_id, dr.retailer_name, r.region_name\n",
        ") temp\n",
        "WHERE rank = 1\n",
        "ORDER BY retailer_id\n",
        "\"\"\").show()"
      ],
      "metadata": {
        "colab": {
          "base_uri": "https://localhost:8080/"
        },
        "id": "8GBJykr0koWn",
        "outputId": "3050b237-7eb2-40eb-ef36-1721a38a6add"
      },
      "execution_count": 39,
      "outputs": [
        {
          "output_type": "stream",
          "name": "stdout",
          "text": [
            "+-----------+-------------+-----------+------------+\n",
            "|retailer_id|retailer_name|region_name|total_amount|\n",
            "+-----------+-------------+-----------+------------+\n",
            "|          1|            A|  Karadeniz|       42642|\n",
            "|          2|            B| Ic Anadolu|       71689|\n",
            "|          3|            C| Ic Anadolu|       11995|\n",
            "|          4|            D|  Karadeniz|       16081|\n",
            "+-----------+-------------+-----------+------------+\n",
            "\n"
          ]
        }
      ]
    },
    {
      "cell_type": "markdown",
      "source": [
        "---"
      ],
      "metadata": {
        "id": "-jgto2MECm2A"
      }
    },
    {
      "cell_type": "markdown",
      "source": [
        "## PySpark API ile Çözüm:"
      ],
      "metadata": {
        "id": "N-1-Y7Cc0KaR"
      }
    },
    {
      "cell_type": "code",
      "source": [
        "FactSale = spark.table(\"FactSale\")\n",
        "DimCustomer = spark.table(\"DimCustomer\")\n",
        "DimRetailer = spark.table(\"DimRetailer\")\n",
        "DimRegion = spark.table(\"DimRegion\")"
      ],
      "metadata": {
        "id": "vCBQ9H6L0QpL"
      },
      "execution_count": 40,
      "outputs": []
    },
    {
      "cell_type": "markdown",
      "source": [
        "---"
      ],
      "metadata": {
        "id": "h7jrq4kxCnsK"
      }
    },
    {
      "cell_type": "code",
      "source": [
        "from pyspark.sql.functions import sum as _sum\n",
        "\n",
        "result_df = FactSale \\\n",
        "    .join(DimRetailer, \"retailer_id\") \\\n",
        "    .join(DimCustomer, \"customer_id\") \\\n",
        "    .join(DimRegion, DimCustomer[\"city_id\"] == DimRegion[\"city_id\"]) \\\n",
        "    .groupBy(\"retailer_id\", \"retailer_name\", \"region_name\") \\\n",
        "    .agg(_sum(\"total_amt\").alias(\"total_amount\"))"
      ],
      "metadata": {
        "id": "NwABPqKoaO4t"
      },
      "execution_count": 41,
      "outputs": []
    },
    {
      "cell_type": "markdown",
      "source": [
        "---"
      ],
      "metadata": {
        "id": "T-5Jrz6kCo6L"
      }
    },
    {
      "cell_type": "code",
      "source": [
        "from pyspark.sql.window import Window\n",
        "from pyspark.sql.functions import row_number\n",
        "\n",
        "# Pencere tanımı: her retailer için büyükten küçüğe ciroya göre\n",
        "window_spec = Window.partitionBy(\"retailer_id\").orderBy(result_df[\"total_amount\"].desc())\n",
        "\n",
        "top_region_df = result_df \\\n",
        "    .withColumn(\"rank\", row_number().over(window_spec)) \\\n",
        "    .filter(col(\"rank\") == 1) \\\n",
        "    .select(\"retailer_id\", \"retailer_name\", \"region_name\", \"total_amount\")"
      ],
      "metadata": {
        "id": "aVIfqkzg0dD6"
      },
      "execution_count": 42,
      "outputs": []
    },
    {
      "cell_type": "markdown",
      "source": [
        "---"
      ],
      "metadata": {
        "id": "mAhi0g2ZCp0d"
      }
    },
    {
      "cell_type": "code",
      "source": [
        "top_region_df.select(\"retailer_id\", \"retailer_name\", \"region_name\", \"total_amount\").show()"
      ],
      "metadata": {
        "colab": {
          "base_uri": "https://localhost:8080/"
        },
        "id": "kX8ZudLP0gN0",
        "outputId": "4b8aa793-181d-4dfe-e387-2a5895d644bd"
      },
      "execution_count": 43,
      "outputs": [
        {
          "output_type": "stream",
          "name": "stdout",
          "text": [
            "+-----------+-------------+-----------+------------+\n",
            "|retailer_id|retailer_name|region_name|total_amount|\n",
            "+-----------+-------------+-----------+------------+\n",
            "|          1|            A|  Karadeniz|       42642|\n",
            "|          2|            B| Ic Anadolu|       71689|\n",
            "|          3|            C| Ic Anadolu|       11995|\n",
            "|          4|            D|  Karadeniz|       16081|\n",
            "+-----------+-------------+-----------+------------+\n",
            "\n"
          ]
        }
      ]
    },
    {
      "cell_type": "markdown",
      "source": [
        "---"
      ],
      "metadata": {
        "id": "fV9ELcHXCq22"
      }
    },
    {
      "cell_type": "markdown",
      "source": [
        "# Proje Linki : https://github.com/edanurarslan/Pyspark-Sales-Analysis"
      ],
      "metadata": {
        "id": "wbNofMbkfKaQ"
      }
    },
    {
      "cell_type": "markdown",
      "source": [
        "# Hazırlayan: Eda Nur ARSLAN"
      ],
      "metadata": {
        "id": "SADBdVKCkemE"
      }
    }
  ]
}